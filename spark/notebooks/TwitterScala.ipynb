{
 "cells": [
  {
   "cell_type": "code",
   "execution_count": 1,
   "metadata": {},
   "outputs": [],
   "source": [
    "%%init_spark\n",
    "launcher.jars = [\"file:///home/jovyan/drivers/postgresql-42.2.10.jar\"]\n",
    "launcher.master = \"local[*]\"\n",
    "launcher.conf.spark.app.name = \"Twitter social graph analysis\"\n",
    "launcher.conf.spark.executor.cores = 8\n",
    "launcher.driver_memory = '9g'"
   ]
  },
  {
   "cell_type": "code",
   "execution_count": 2,
   "metadata": {},
   "outputs": [
    {
     "data": {
      "text/plain": [
       "Intitializing Scala interpreter ..."
      ]
     },
     "metadata": {},
     "output_type": "display_data"
    },
    {
     "data": {
      "text/plain": [
       "Spark Web UI available at http://575ad6b14266:4040\n",
       "SparkContext available as 'sc' (version = 2.4.5, master = local[*], app id = local-1587548387477)\n",
       "SparkSession available as 'spark'\n"
      ]
     },
     "metadata": {},
     "output_type": "display_data"
    },
    {
     "data": {
      "text/plain": [
       "import org.apache.spark._\n",
       "import org.apache.spark.rdd.RDD\n",
       "import org.apache.spark.graphx._\n",
       "import org.apache.spark.sql.types.LongType\n",
       "import org.apache.spark.sql.functions._\n"
      ]
     },
     "execution_count": 2,
     "metadata": {},
     "output_type": "execute_result"
    }
   ],
   "source": [
    "import org.apache.spark._\n",
    "import org.apache.spark.rdd.RDD\n",
    "// import classes required for using GraphX\n",
    "import org.apache.spark.graphx._\n",
    "import org.apache.spark.sql.types.LongType\n",
    "import org.apache.spark.sql.functions._"
   ]
  },
  {
   "cell_type": "code",
   "execution_count": 3,
   "metadata": {},
   "outputs": [],
   "source": [
    "// Download followers from postgres into parquet\n",
    "// spark.read\n",
    "//   .format(\"jdbc\")\n",
    "//   .option(\"driver\", \"org.postgresql.Driver\")\n",
    "//   .option(\"url\", \"jdbc:postgresql://postgres:5432/twitter\")\n",
    "//   .option(\"dbtable\", \"followers\")\n",
    "//   .option(\"user\", \"crawler\")\n",
    "//   .option(\"password\", \"12345\")\n",
    "//   .load().write..option(\"maxRecordsPerFile\", 1000000).parquet(\"../data/followers_all.parquet\")"
   ]
  },
  {
   "cell_type": "code",
   "execution_count": 4,
   "metadata": {},
   "outputs": [],
   "source": [
    "// // LOAD USER DATA FROM PG TO PARQUET\n",
    "// spark.read\n",
    "//   .format(\"jdbc\")\n",
    "//   .option(\"driver\", \"org.postgresql.Driver\")\n",
    "//   .option(\"url\", \"jdbc:postgresql://postgres:5432/twitter\")\n",
    "//   .option(\"dbtable\", \"(SELECT u.id, u.screen_name, u.are_followers_downloaded, \n",
    "//   COUNT(f.follower_id) as follower_count FROM users u \n",
    "//   JOIN followers f ON f.user_id=u.id GROUP BY u.id) as t\")\n",
    "//   .option(\"user\", \"crawler\")\n",
    "//   .option(\"password\", \"***\")\n",
    "//   .load().write.parquet(\"../data/user_data.parquet\")"
   ]
  },
  {
   "cell_type": "code",
   "execution_count": 5,
   "metadata": {},
   "outputs": [],
   "source": [
    "// // Convert csv followers subgraph to parquet\n",
    "\n",
    "// val df_str = spark.read.csv(\"../data/subgraph_1197663692621590529_10000000.csv\")\n",
    "// .withColumnRenamed(\"_c0\",\"user_id\").withColumnRenamed(\"_c1\", \"follower_id\")\n",
    "// val df_to_write = df_str.select(\n",
    "//     df_str(\"user_id\").cast(LongType).as(\"user_id\"), \n",
    "//     df_str(\"follower_id\").cast(LongType).as(\"follower_id\"))\n",
    "// df_to_write.write.parquet(\"../data/followers_10M_connected.parquet\")"
   ]
  },
  {
   "cell_type": "code",
   "execution_count": 3,
   "metadata": {},
   "outputs": [
    {
     "data": {
      "text/plain": [
       "userData: org.apache.spark.sql.DataFrame = [id: bigint, screen_name: string ... 2 more fields]\n"
      ]
     },
     "execution_count": 3,
     "metadata": {},
     "output_type": "execute_result"
    }
   ],
   "source": [
    "val userData = spark.read.parquet(\"../data/user_data.parquet\")"
   ]
  },
  {
   "cell_type": "code",
   "execution_count": 4,
   "metadata": {},
   "outputs": [
    {
     "data": {
      "text/plain": [
       "followers: org.apache.spark.sql.Dataset[org.apache.spark.sql.Row] = [user_id: bigint, follower_id: bigint]\n"
      ]
     },
     "execution_count": 4,
     "metadata": {},
     "output_type": "execute_result"
    }
   ],
   "source": [
    "val followers = spark.read.parquet(\"../data/followers_10M_connected.parquet\").distinct()"
   ]
  },
  {
   "cell_type": "code",
   "execution_count": 5,
   "metadata": {},
   "outputs": [
    {
     "data": {
      "text/plain": [
       "uniqUsers: org.apache.spark.sql.DataFrame = [user_id: bigint, follower_appeared_count: bigint]\n",
       "userDataActual: org.apache.spark.sql.DataFrame = [user_id: bigint, screen_name: string ... 3 more fields]\n"
      ]
     },
     "execution_count": 5,
     "metadata": {},
     "output_type": "execute_result"
    }
   ],
   "source": [
    "val uniqUsers = followers.groupBy(\"user_id\").count()\n",
    ".withColumnRenamed(\"count\", \"follower_appeared_count\")\n",
    "\n",
    "val userDataActual = userData\n",
    ".join(uniqUsers, uniqUsers(\"user_id\") === userData(\"id\"))\n",
    ".select(\"user_id\", \n",
    "        \"screen_name\", \n",
    "        \"are_followers_downloaded\", \n",
    "        \"follower_count\", \n",
    "        \"follower_appeared_count\")"
   ]
  },
  {
   "cell_type": "code",
   "execution_count": 9,
   "metadata": {},
   "outputs": [
    {
     "name": "stdout",
     "output_type": "stream",
     "text": [
      "+------------------+---------------+------------------------+--------------+-----------------------+\n",
      "|           user_id|    screen_name|are_followers_downloaded|follower_count|follower_appeared_count|\n",
      "+------------------+---------------+------------------------+--------------+-----------------------+\n",
      "|728147518307991552| shuliang_zhang|                    true|           149|                    149|\n",
      "|        1732140697|Carolinavivald1|                    true|           307|                    307|\n",
      "|         259226865|      mbassam76|                   false|          5399|                   5399|\n",
      "|856191093465124865|SegueEUsigoVCtb|                    true|           568|                    568|\n",
      "|926190528575737856|      IveticAca|                    true|             1|                      1|\n",
      "+------------------+---------------+------------------------+--------------+-----------------------+\n",
      "only showing top 5 rows\n",
      "\n"
     ]
    }
   ],
   "source": [
    "userDataActual.show(5)"
   ]
  },
  {
   "cell_type": "code",
   "execution_count": 10,
   "metadata": {},
   "outputs": [
    {
     "data": {
      "text/plain": [
       "res4: Long = 5708\n"
      ]
     },
     "execution_count": 10,
     "metadata": {},
     "output_type": "execute_result"
    }
   ],
   "source": [
    "userDataActual.count()"
   ]
  },
  {
   "cell_type": "code",
   "execution_count": 6,
   "metadata": {},
   "outputs": [
    {
     "data": {
      "text/plain": [
       "edgesDf: org.apache.spark.sql.DataFrame = [dst: bigint, src: bigint]\n"
      ]
     },
     "execution_count": 6,
     "metadata": {},
     "output_type": "execute_result"
    }
   ],
   "source": [
    "val edgesDf = followers\n",
    ".withColumnRenamed(\"user_id\",\"dst\")\n",
    ".withColumnRenamed(\"follower_id\",\"src\")"
   ]
  },
  {
   "cell_type": "code",
   "execution_count": 7,
   "metadata": {},
   "outputs": [
    {
     "data": {
      "text/plain": [
       "edgesRDD: org.apache.spark.rdd.RDD[(Long, Long)] = MapPartitionsRDD[12] at map at <console>:39\n"
      ]
     },
     "execution_count": 7,
     "metadata": {},
     "output_type": "execute_result"
    }
   ],
   "source": [
    "val edgesRDD = edgesDf\n",
    ".select(\"src\", \"dst\")\n",
    ".rdd.map(r => (r.getAs[Long](\"src\"), r.getAs[Long](\"dst\")))"
   ]
  },
  {
   "cell_type": "code",
   "execution_count": 8,
   "metadata": {},
   "outputs": [
    {
     "data": {
      "text/plain": [
       "graph: org.apache.spark.graphx.Graph[String,Int] = org.apache.spark.graphx.impl.GraphImpl@b8eb426\n"
      ]
     },
     "execution_count": 8,
     "metadata": {},
     "output_type": "execute_result"
    }
   ],
   "source": [
    "val graph = Graph.fromEdgeTuples(edgesRDD, \"nowhere\")"
   ]
  },
  {
   "cell_type": "code",
   "execution_count": 9,
   "metadata": {},
   "outputs": [
    {
     "data": {
      "text/plain": [
       "res0: Long = 5277556\n"
      ]
     },
     "execution_count": 9,
     "metadata": {},
     "output_type": "execute_result"
    }
   ],
   "source": [
    "// Graph vertices count\n",
    "graph.vertices.count()"
   ]
  },
  {
   "cell_type": "code",
   "execution_count": 10,
   "metadata": {},
   "outputs": [
    {
     "data": {
      "text/plain": [
       "res1: Long = 7106158\n"
      ]
     },
     "execution_count": 10,
     "metadata": {},
     "output_type": "execute_result"
    }
   ],
   "source": [
    "// Graph edges count\n",
    "graph.edges.count()"
   ]
  },
  {
   "cell_type": "markdown",
   "metadata": {},
   "source": [
    "# Pagerank"
   ]
  },
  {
   "cell_type": "code",
   "execution_count": 14,
   "metadata": {},
   "outputs": [
    {
     "data": {
      "text/plain": [
       "rankedGraph: org.apache.spark.graphx.Graph[Double,Double] = org.apache.spark.graphx.impl.GraphImpl@435d99eb\n"
      ]
     },
     "execution_count": 14,
     "metadata": {},
     "output_type": "execute_result"
    }
   ],
   "source": [
    "val rankedGraph = graph.pageRank(0.0001)\n",
    "// 30 minutes, 7 millions edges"
   ]
  },
  {
   "cell_type": "code",
   "execution_count": 15,
   "metadata": {},
   "outputs": [
    {
     "data": {
      "text/plain": [
       "res5: Array[(org.apache.spark.graphx.VertexId, Double)] = Array((2854236096,0.15000007733152665), (40968200,0.15000007733152665), (2761873296,0.15000007733152665), (1055688600,0.15000007733152665), (609840800,0.15000007733152665), (879358797868937218,0.15000007733152665), (2784717896,0.15000007733152665), (927295438474170369,0.15000007733152665), (894074822950400000,0.15000007733152665), (225862200,0.15000007733152665))\n"
      ]
     },
     "execution_count": 15,
     "metadata": {},
     "output_type": "execute_result"
    }
   ],
   "source": [
    "rankedGraph.vertices.take(10)"
   ]
  },
  {
   "cell_type": "code",
   "execution_count": 16,
   "metadata": {},
   "outputs": [
    {
     "name": "stdout",
     "output_type": "stream",
     "text": [
      "+------------------+-------------------+\n",
      "|           user_id|           pagerank|\n",
      "+------------------+-------------------+\n",
      "|        2854236096|0.15000007733152665|\n",
      "|          40968200|0.15000007733152665|\n",
      "|        2761873296|0.15000007733152665|\n",
      "|        1055688600|0.15000007733152665|\n",
      "|         609840800|0.15000007733152665|\n",
      "|879358797868937218|0.15000007733152665|\n",
      "|        2784717896|0.15000007733152665|\n",
      "|927295438474170369|0.15000007733152665|\n",
      "|894074822950400000|0.15000007733152665|\n",
      "|         225862200|0.15000007733152665|\n",
      "+------------------+-------------------+\n",
      "only showing top 10 rows\n",
      "\n"
     ]
    },
    {
     "data": {
      "text/plain": [
       "rankedGraphDf: org.apache.spark.sql.DataFrame = [user_id: bigint, pagerank: double]\n"
      ]
     },
     "execution_count": 16,
     "metadata": {},
     "output_type": "execute_result"
    }
   ],
   "source": [
    "val rankedGraphDf = rankedGraph.vertices.toDF()\n",
    ".withColumnRenamed(\"_1\", \"user_id\")\n",
    ".withColumnRenamed(\"_2\", \"pagerank\")\n",
    "rankedGraphDf.show(10)"
   ]
  },
  {
   "cell_type": "code",
   "execution_count": 19,
   "metadata": {},
   "outputs": [
    {
     "data": {
      "text/plain": [
       "res9: Long = 4473\n"
      ]
     },
     "execution_count": 19,
     "metadata": {},
     "output_type": "execute_result"
    }
   ],
   "source": [
    "// Unique values of pagerank metrics\n",
    "rankedGraphDf.select(\"pagerank\").distinct().count()"
   ]
  },
  {
   "cell_type": "code",
   "execution_count": 17,
   "metadata": {},
   "outputs": [
    {
     "name": "stdout",
     "output_type": "stream",
     "text": [
      "+---------+---------------+------------------------+--------------+-----------------------+-------------------+\n",
      "|  user_id|    screen_name|are_followers_downloaded|follower_count|follower_appeared_count|           pagerank|\n",
      "+---------+---------------+------------------------+--------------+-----------------------+-------------------+\n",
      "|104366327|deepakdeepakdas|                    true|            36|                     36| 1.1360304345266532|\n",
      "|158935649|        VJanett|                    true|            60|                     60|  7.322603206936806|\n",
      "|220690950|     DoubleT852|                    true|            24|                     24|  3.114376605595821|\n",
      "|224126627|      AleksAK16|                    true|             2|                      2|  0.405000208795122|\n",
      "|243240673|   LaraBipolara|                    true|            61|                     61|  7.672503955507593|\n",
      "|259226865|      mbassam76|                   false|          5399|                   5399|  619.6998035290684|\n",
      "|312180219|      Mahrundel|                    true|             2|                      2|0.17762509157341613|\n",
      "|348422031|   _Cross_Fire_|                    true|             4|                      4| 0.5643752909598689|\n",
      "|419119609|trejo_surfhotma|                    true|             9|                      9| 1.0743755538870594|\n",
      "|445619234|    pattonhtrnu|                    true|             4|                      4|0.27750014306332427|\n",
      "+---------+---------------+------------------------+--------------+-----------------------+-------------------+\n",
      "only showing top 10 rows\n",
      "\n"
     ]
    },
    {
     "data": {
      "text/plain": [
       "ranksByUsername: org.apache.spark.sql.DataFrame = [user_id: bigint, screen_name: string ... 4 more fields]\n"
      ]
     },
     "execution_count": 17,
     "metadata": {},
     "output_type": "execute_result"
    }
   ],
   "source": [
    "val ranksByUsername = userDataActual.join(rankedGraphDf, \"user_id\")\n",
    "ranksByUsername.show(10)"
   ]
  },
  {
   "cell_type": "code",
   "execution_count": 18,
   "metadata": {},
   "outputs": [
    {
     "name": "stdout",
     "output_type": "stream",
     "text": [
      "+---------------+--------------+-----------------------+------------------+\n",
      "|    screen_name|follower_count|follower_appeared_count|          pagerank|\n",
      "+---------------+--------------+-----------------------+------------------+\n",
      "| ARTEM_KLYUSHIN|        813889|                 813889| 830395.9704494262|\n",
      "| MusicIndustryU|        104814|                 104814| 34943.57321738785|\n",
      "|        cassmlk|          5685|                   5685| 32222.82505016166|\n",
      "|        bkbells|          2258|                   2258|31498.460945402785|\n",
      "|   ShasiaDeonna|         12654|                  12654|28912.415676576675|\n",
      "|     JBVoteArmy|         15619|                  15619|27847.881485641916|\n",
      "|         i4e___|           518|                    518|19949.929392740338|\n",
      "|       ATHer323|         15461|                  15461| 19919.06548982774|\n",
      "|      geomisati|         14404|                  14404|19723.226918197597|\n",
      "|  LelisSilveira|         28494|                  28494| 17025.55067342751|\n",
      "|  cagethecornos|         15288|                  15288|16239.994029192505|\n",
      "|        mdobkin|         95053|                  95053| 15912.01193764831|\n",
      "|      suuna2010|          8677|                   8677|14288.939224701035|\n",
      "|       loveitte|         22435|                  22435|11793.331970441412|\n",
      "|  directionadzz|          7765|                   7765|11447.280814167352|\n",
      "| yash_boylieber|         21825|                  21825| 11237.05539861862|\n",
      "|     uisapatao_|         13674|                  13674|10499.627841101386|\n",
      "|    _LoneSoulja|         26500|                  26500|10371.946403703541|\n",
      "|    Ursinha1413|           149|                    149| 9848.950963907024|\n",
      "|       tareq_98|         40489|                  40489| 9715.505167342157|\n",
      "|prettyravejonas|         16709|                  16709| 9505.576491790234|\n",
      "|  joanne_hickey|         11982|                  11982| 9353.183996868902|\n",
      "|      PhredGot1|         22993|                  22993| 9224.317214262768|\n",
      "|andysilversnake|         21923|                  21923| 9201.393674297708|\n",
      "|willahmcdonough|          5008|                   5008|  9143.48428164475|\n",
      "|TheRealDSummers|         25478|                  25478| 9071.527096338079|\n",
      "|     _dearslim_|          6995|                   6995| 9021.537462651038|\n",
      "|     Kar1neMelo|         13010|                  13010| 8989.004163336007|\n",
      "|   MutheeDuncan|         10590|                  10590| 8897.725399146233|\n",
      "|        crfricd|         25486|                  25486| 8735.165910816067|\n",
      "|       ztn_gold|         27699|                  27699| 8627.850273448741|\n",
      "|   abdullah996_|         10796|                  10796| 8391.591537050774|\n",
      "|    2015ArthurM|         26108|                  26108| 8379.461177306197|\n",
      "|       Funyunzz|          4815|                   4815| 8224.360435442815|\n",
      "|         m_775_|          2093|                   2093| 8157.314500103829|\n",
      "|        5a88a88|          6810|                   6810| 7982.213841023129|\n",
      "|         j_ooor|          3135|                   3135| 7971.007092601086|\n",
      "|       awello_k|          4265|                   4265| 7949.720844419936|\n",
      "|  singer_JASMIN|          5245|                   5245| 7939.093688639648|\n",
      "|        1410_17|         33138|                  33138| 7907.330223364345|\n",
      "|  _LilShawtyyyy|         33821|                  33821| 7865.773526752074|\n",
      "|    Albgomi2030|         22301|                  22301| 7808.889218549067|\n",
      "|     baekhyuwnz|         13515|                  13515|  7680.11585217889|\n",
      "|     loveverson|         14742|                  14742| 7650.792032284098|\n",
      "|          iR52l|         29578|                  29578| 7522.779836654918|\n",
      "|       jjzlh123|          5314|                   5314|7463.3082489912995|\n",
      "|     Cu_de_sapo|          2346|                   2346|7219.3254621068745|\n",
      "|elainerafaela15|           749|                    749| 7182.754646815942|\n",
      "|     LuzuVlogs_|         56134|                  56134| 7078.912113131418|\n",
      "|     254_curtis|         13471|                  13471| 7064.425123839072|\n",
      "|      lapanaweb|         50787|                  50787| 7013.371726055663|\n",
      "|    njhtuesdays|          6932|                   6932| 6915.600044967643|\n",
      "|   tallblackwya|          2084|                   2084| 6795.693871361734|\n",
      "|   outersxpacee|         11695|                  11695| 6794.395355913583|\n",
      "|     E_ALolaiwi|         15717|                  15717| 6647.103325443339|\n",
      "|        tremm2d|          1384|                   1384| 6639.798603433379|\n",
      "|IngeLiseVejlgaa|         17398|                  17398| 6595.954615688283|\n",
      "|     SrTonAlves|          9951|                   9951| 6567.492113346428|\n",
      "|        weenick|         20987|                  20987| 6507.386013028048|\n",
      "|JohnVanderbilt2|         21356|                  21356| 6469.803479176903|\n",
      "|   Equinox_11th|         20788|                  20788| 6405.662322987475|\n",
      "|     Harmoni5HK|          8086|                   8086| 6376.593074697183|\n",
      "|        frobiri|          3839|                   3839| 6333.247377289171|\n",
      "|     mstr_slfer|         13189|                  13189|6286.4461241247855|\n",
      "|HeartlandHipHop|         11551|                  11551| 6283.483854273788|\n",
      "|   dronesuavuas|         16227|                  16227| 6167.829683743741|\n",
      "|    sdelanounih|          6267|                   6267| 6151.470984335347|\n",
      "|   TillOnChill3|         14045|                  14045| 5974.369805273345|\n",
      "|emmanuel_ngathu|          4158|                   4158|  5957.05409205479|\n",
      "| fasttracknews_|         18153|                  18153| 5830.229954930384|\n",
      "|    shawnsmocha|         36668|                  36668| 5756.290843114739|\n",
      "|        pmwesha|         12018|                  12018|  5725.46758555311|\n",
      "|  brunnaalves83|          1117|                   1117|5561.3135208637395|\n",
      "| Luanaarantes29|           389|                    389| 5548.485520123771|\n",
      "|Kessesconstitu2|          3846|                   3846| 5507.406879352389|\n",
      "|   adrinhalimaa|          2991|                   2991| 5460.290137662439|\n",
      "|Nicolerafaiele_|           725|                    725| 5434.580402074667|\n",
      "|      Meslina63|         36368|                  36368|  5412.34357598242|\n",
      "|       Dan_Sudi|         17113|                  17113| 5409.556672925129|\n",
      "|_0_1_1_1_1_1_0_|          8724|                   8724|5381.2870818888605|\n",
      "|        Iliagur|         10237|                  10237| 5321.035783942177|\n",
      "|       geeenm13|          8611|                   8611| 5277.609053273349|\n",
      "|  clinton_ohogo|          7418|                   7418|5203.8127448386385|\n",
      "|     stuartaken|         24697|                  24697|  5043.77136730305|\n",
      "|       BeryJoes|         10327|                  10327| 4975.607699631948|\n",
      "| michelekelemen|          6841|                   6841| 4965.572434227037|\n",
      "| Manuu_Machadoo|            17|                     17| 4960.462492494425|\n",
      "|     Ketrin0315|          7711|                   7711| 4899.809691571955|\n",
      "|   fiona_maluka|          1024|                   1024| 4848.285311057863|\n",
      "|   SabriRobledo|          8740|                   8740| 4805.326245033424|\n",
      "|   ZeniferHenry|          3172|                   3172| 4761.052896976712|\n",
      "|       jus_mowm|          9316|                   9316| 4743.001618384751|\n",
      "|MariaMichelle53|          1835|                   1835|  4742.96176544574|\n",
      "| Xxshanicoolkid|          3893|                   3893| 4723.506940722536|\n",
      "| fredsfabdesign|          5819|                   5819|  4708.14221646122|\n",
      "|rosebyanyother7|          9024|                   9024| 4617.094062585594|\n",
      "|     SnowbirdsF|         10477|                  10477| 4595.146963763015|\n",
      "| Sachin55476477|         10691|                  10691|  4589.97559084162|\n",
      "| crazy_pleoples|          4127|                   4127| 4387.315203936362|\n",
      "|     rembonmike|          2523|                   2523| 4386.179294190187|\n",
      "+---------------+--------------+-----------------------+------------------+\n",
      "only showing top 100 rows\n",
      "\n"
     ]
    }
   ],
   "source": [
    "ranksByUsername.sort(desc(\"pagerank\"))\n",
    ".where(col(\"are_followers_downloaded\") === true)\n",
    ".select(\"screen_name\", \"follower_count\", \n",
    "        \"follower_appeared_count\", \"pagerank\").show(100)"
   ]
  },
  {
   "cell_type": "markdown",
   "metadata": {},
   "source": [
    "# Connected components"
   ]
  },
  {
   "cell_type": "code",
   "execution_count": 37,
   "metadata": {},
   "outputs": [
    {
     "data": {
      "text/plain": [
       "components: org.apache.spark.graphx.Graph[org.apache.spark.graphx.VertexId,Int] = org.apache.spark.graphx.impl.GraphImpl@49b04576\n"
      ]
     },
     "execution_count": 37,
     "metadata": {},
     "output_type": "execute_result"
    }
   ],
   "source": [
    "val components = graph.connectedComponents()"
   ]
  },
  {
   "cell_type": "code",
   "execution_count": 39,
   "metadata": {},
   "outputs": [
    {
     "data": {
      "text/plain": [
       "res12: Long = 1\n"
      ]
     },
     "execution_count": 39,
     "metadata": {},
     "output_type": "execute_result"
    }
   ],
   "source": [
    "components.vertices.map{case(_,cc) => cc}.distinct().count()"
   ]
  },
  {
   "cell_type": "code",
   "execution_count": 38,
   "metadata": {},
   "outputs": [
    {
     "data": {
      "text/plain": [
       "res11: Array[(org.apache.spark.graphx.VertexId, String)] = Array((4408653323,4408653323 is in component 13), (868201562656649216,868201562656649216 is in component 13), (4157346022,4157346022 is in component 13), (1540571352,1540571352 is in component 13), (2656663204,2656663204 is in component 13))\n"
      ]
     },
     "execution_count": 38,
     "metadata": {},
     "output_type": "execute_result"
    }
   ],
   "source": [
    "graph.vertices.leftJoin(components.vertices) {\n",
    "    case (id, data, comp) => s\"${id} is in component ${comp.get}\"\n",
    "}.take(5)"
   ]
  },
  {
   "cell_type": "markdown",
   "metadata": {},
   "source": [
    "# Community detection"
   ]
  },
  {
   "cell_type": "code",
   "execution_count": 11,
   "metadata": {},
   "outputs": [
    {
     "data": {
      "text/plain": [
       "import org.apache.spark.graphx.lib.LabelPropagation\n"
      ]
     },
     "execution_count": 11,
     "metadata": {},
     "output_type": "execute_result"
    }
   ],
   "source": [
    "import org.apache.spark.graphx.lib.LabelPropagation"
   ]
  },
  {
   "cell_type": "code",
   "execution_count": 31,
   "metadata": {},
   "outputs": [],
   "source": [
    "// 40 MINS"
   ]
  },
  {
   "cell_type": "code",
   "execution_count": 27,
   "metadata": {},
   "outputs": [
    {
     "data": {
      "text/plain": [
       "communities: org.apache.spark.graphx.Graph[org.apache.spark.graphx.VertexId,Int] = org.apache.spark.graphx.impl.GraphImpl@3b498975\n"
      ]
     },
     "execution_count": 27,
     "metadata": {},
     "output_type": "execute_result"
    }
   ],
   "source": [
    "val communities = LabelPropagation.run(graph, 5)"
   ]
  },
  {
   "cell_type": "code",
   "execution_count": 34,
   "metadata": {},
   "outputs": [
    {
     "data": {
      "text/plain": [
       "res18: Long = 5277556\n"
      ]
     },
     "execution_count": 34,
     "metadata": {},
     "output_type": "execute_result"
    }
   ],
   "source": [
    "communities.vertices.count()"
   ]
  },
  {
   "cell_type": "code",
   "execution_count": 36,
   "metadata": {},
   "outputs": [
    {
     "data": {
      "text/plain": [
       "res20: Long = 7417\n"
      ]
     },
     "execution_count": 36,
     "metadata": {},
     "output_type": "execute_result"
    }
   ],
   "source": [
    "// Unique communities count\n",
    "communities.vertices.map{case(_,cc) => cc}.distinct().count()"
   ]
  }
 ],
 "metadata": {
  "kernelspec": {
   "display_name": "spylon-kernel",
   "language": "scala",
   "name": "spylon-kernel"
  },
  "language_info": {
   "codemirror_mode": "text/x-scala",
   "file_extension": ".scala",
   "help_links": [
    {
     "text": "MetaKernel Magics",
     "url": "https://metakernel.readthedocs.io/en/latest/source/README.html"
    }
   ],
   "mimetype": "text/x-scala",
   "name": "scala",
   "pygments_lexer": "scala",
   "version": "0.4.1"
  }
 },
 "nbformat": 4,
 "nbformat_minor": 4
}
