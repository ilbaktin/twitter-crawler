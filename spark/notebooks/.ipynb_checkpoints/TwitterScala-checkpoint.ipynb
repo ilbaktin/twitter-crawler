{
 "cells": [
  {
   "cell_type": "code",
   "execution_count": 1,
   "metadata": {},
   "outputs": [],
   "source": [
    "%%init_spark\n",
    "launcher.jars = [\"file:///home/jovyan/drivers/postgresql-42.2.10.jar\"]\n",
    "launcher.master = \"local[*]\"\n",
    "launcher.conf.spark.app.name = \"My Fancy App\"\n",
    "launcher.conf.spark.executor.cores = 8\n",
    "launcher.driver_memory = '9g'"
   ]
  },
  {
   "cell_type": "code",
   "execution_count": 2,
   "metadata": {},
   "outputs": [
    {
     "data": {
      "text/plain": [
       "Intitializing Scala interpreter ..."
      ]
     },
     "metadata": {},
     "output_type": "display_data"
    },
    {
     "data": {
      "text/plain": [
       "Spark Web UI available at http://587709733df7:4040\n",
       "SparkContext available as 'sc' (version = 2.4.5, master = local[*], app id = local-1587027192751)\n",
       "SparkSession available as 'spark'\n"
      ]
     },
     "metadata": {},
     "output_type": "display_data"
    },
    {
     "data": {
      "text/plain": [
       "import org.apache.spark._\n",
       "import org.apache.spark.rdd.RDD\n",
       "import org.apache.spark.graphx._\n"
      ]
     },
     "execution_count": 2,
     "metadata": {},
     "output_type": "execute_result"
    }
   ],
   "source": [
    "import org.apache.spark._\n",
    "import org.apache.spark.rdd.RDD\n",
    "// import classes required for using GraphX\n",
    "import org.apache.spark.graphx._\n",
    "import org.apache.spark.sql.types.LongType\n",
    "import org.apache.spark.sql.functions._"
   ]
  },
  {
   "cell_type": "code",
   "execution_count": 3,
   "metadata": {},
   "outputs": [],
   "source": [
    "// Download followers from postgres into parquet\n",
    "// spark.read\n",
    "//   .format(\"jdbc\")\n",
    "//   .option(\"driver\", \"org.postgresql.Driver\")\n",
    "//   .option(\"url\", \"jdbc:postgresql://postgres:5432/twitter\")\n",
    "//   .option(\"dbtable\", \"followers\")\n",
    "//   .option(\"user\", \"crawler\")\n",
    "//   .option(\"password\", \"12345\")\n",
    "//   .load().write..option(\"maxRecordsPerFile\", 1000000).parquet(\"../data/followers_all.parquet\")"
   ]
  },
  {
   "cell_type": "code",
   "execution_count": 83,
   "metadata": {},
   "outputs": [],
   "source": [
    "// LOAD USER DATA FROM PG TO PARQUET\n",
    "// spark.read\n",
    "//   .format(\"jdbc\")\n",
    "//   .option(\"driver\", \"org.postgresql.Driver\")\n",
    "//   .option(\"url\", \"jdbc:postgresql://postgres:5432/twitter\")\n",
    "//   .option(\"dbtable\", \"(SELECT u.id, u.screen_name, u.are_followers_downloaded, COUNT(f.follower_id) as follower_count FROM users u JOIN followers f ON f.user_id=u.id GROUP BY u.id) as t\")\n",
    "//   .option(\"user\", \"crawler\")\n",
    "//   .option(\"password\", \"12345\")\n",
    "//   .load().write.parquet(\"../data/user_data.parquet\")"
   ]
  },
  {
   "cell_type": "code",
   "execution_count": 27,
   "metadata": {},
   "outputs": [
    {
     "data": {
      "text/plain": [
       "import org.apache.spark.sql.types.LongType\n",
       "df_str: org.apache.spark.sql.DataFrame = [user_id: string, follower_id: string]\n",
       "df_to_write: org.apache.spark.sql.DataFrame = [user_id: bigint, follower_id: bigint]\n"
      ]
     },
     "execution_count": 27,
     "metadata": {},
     "output_type": "execute_result"
    }
   ],
   "source": [
    "// Convert csv 10M followers to parquet\n",
    "\n",
    "// val df_str = spark.read.csv(\"../data/subgraph_1197663692621590529_10000000.csv\")\n",
    "// .withColumnRenamed(\"_c0\",\"user_id\").withColumnRenamed(\"_c1\", \"follower_id\")\n",
    "// val df_to_write = df_str.select(df_str(\"user_id\").cast(LongType).as(\"user_id\"), df_str(\"follower_id\").cast(LongType).as(\"follower_id\"))\n",
    "// df_to_write.write.parquet(\"../data/followers_10M_connected.parquet\")"
   ]
  },
  {
   "cell_type": "code",
   "execution_count": 84,
   "metadata": {},
   "outputs": [
    {
     "data": {
      "text/plain": [
       "userData: org.apache.spark.sql.DataFrame = [id: bigint, screen_name: string ... 2 more fields]\n"
      ]
     },
     "execution_count": 84,
     "metadata": {},
     "output_type": "execute_result"
    }
   ],
   "source": [
    "val userData = spark.read.parquet(\"../data/user_data.parquet\")"
   ]
  },
  {
   "cell_type": "code",
   "execution_count": 70,
   "metadata": {},
   "outputs": [
    {
     "data": {
      "text/plain": [
       "followers: org.apache.spark.sql.DataFrame = [user_id: bigint, follower_id: bigint]\n"
      ]
     },
     "execution_count": 70,
     "metadata": {},
     "output_type": "execute_result"
    }
   ],
   "source": [
    "val followers = spark.read.parquet(\"../data/followers_10M_connected.parquet\").distinct()"
   ]
  },
  {
   "cell_type": "code",
   "execution_count": 103,
   "metadata": {},
   "outputs": [
    {
     "data": {
      "text/plain": [
       "uniqUsers: org.apache.spark.sql.DataFrame = [user_id: bigint, follower_appeared_count: bigint]\n",
       "userDataActual: org.apache.spark.sql.DataFrame = [user_id: bigint, screen_name: string ... 3 more fields]\n"
      ]
     },
     "execution_count": 103,
     "metadata": {},
     "output_type": "execute_result"
    }
   ],
   "source": [
    "val uniqUsers = followers.groupBy(\"user_id\").count().withColumnRenamed(\"count\", \"follower_appeared_count\")\n",
    "\n",
    "val userDataActual = userData.join(uniqUsers, uniqUsers(\"user_id\") === userData(\"id\"))\n",
    ".select(\"user_id\", \"screen_name\", \"are_followers_downloaded\", \"follower_count\", \"follower_appeared_count\")"
   ]
  },
  {
   "cell_type": "code",
   "execution_count": 99,
   "metadata": {},
   "outputs": [
    {
     "name": "stdout",
     "output_type": "stream",
     "text": [
      "+------------------+---------------+------------------------+--------------+-----------------------+\n",
      "|           user_id|    screen_name|are_followers_downloaded|follower_count|follower_appeared_count|\n",
      "+------------------+---------------+------------------------+--------------+-----------------------+\n",
      "|728147518307991552| shuliang_zhang|                    true|           149|                    149|\n",
      "|        1732140697|Carolinavivald1|                    true|           307|                    307|\n",
      "|         348422031|   _Cross_Fire_|                    true|             4|                      4|\n",
      "|         224126627|      AleksAK16|                    true|             2|                      2|\n",
      "|         550846727|      OpaySelow|                    true|            44|                     44|\n",
      "|         220690950|     DoubleT852|                    true|            24|                     24|\n",
      "|         243240673|   LaraBipolara|                    true|            61|                     61|\n",
      "|         454446596|     Gjermund78|                    true|             3|                      3|\n",
      "|         468670565|      Paisan132|                    true|             2|                      2|\n",
      "|         312180219|      Mahrundel|                    true|             2|                      2|\n",
      "|         104366327|deepakdeepakdas|                    true|            36|                     36|\n",
      "|         445619234|    pattonhtrnu|                    true|             4|                      4|\n",
      "|        2432124493|nikhils20039200|                    true|            38|                     38|\n",
      "|         419119609|trejo_surfhotma|                    true|             9|                      9|\n",
      "|        3001918758|        azulaa_|                    true|            40|                     40|\n",
      "|         259226865|      mbassam76|                   false|          5399|                   5399|\n",
      "|733997674966491136|stanisic_zeljka|                    true|             7|                      7|\n",
      "|         158935649|        VJanett|                    true|            60|                     60|\n",
      "|759776466632450053|itvMZyAaNKLt5Gv|                    true|             4|                      4|\n",
      "|926461104674557952|  Geoff38300147|                    true|             4|                      4|\n",
      "+------------------+---------------+------------------------+--------------+-----------------------+\n",
      "only showing top 20 rows\n",
      "\n"
     ]
    }
   ],
   "source": [
    "userDataActual.show()"
   ]
  },
  {
   "cell_type": "code",
   "execution_count": 100,
   "metadata": {},
   "outputs": [
    {
     "data": {
      "text/plain": [
       "res57: Long = 5708\n"
      ]
     },
     "execution_count": 100,
     "metadata": {},
     "output_type": "execute_result"
    }
   ],
   "source": [
    "userDataActual.count()"
   ]
  },
  {
   "cell_type": "code",
   "execution_count": 101,
   "metadata": {},
   "outputs": [
    {
     "data": {
      "text/plain": [
       "edgesDf: org.apache.spark.sql.DataFrame = [dst: bigint, src: bigint]\n"
      ]
     },
     "execution_count": 101,
     "metadata": {},
     "output_type": "execute_result"
    }
   ],
   "source": [
    "val edgesDf = followers.withColumnRenamed(\"user_id\",\"dst\").withColumnRenamed(\"follower_id\",\"src\")"
   ]
  },
  {
   "cell_type": "code",
   "execution_count": 32,
   "metadata": {},
   "outputs": [
    {
     "data": {
      "text/plain": [
       "edgesRDD: org.apache.spark.rdd.RDD[(Long, Long)] = MapPartitionsRDD[63] at map at <console>:37\n"
      ]
     },
     "execution_count": 32,
     "metadata": {},
     "output_type": "execute_result"
    }
   ],
   "source": [
    "val edgesRDD = edgesDf.select(\"src\", \"dst\").rdd.map(r => (r.getAs[Long](\"src\"), r.getAs[Long](\"dst\")))"
   ]
  },
  {
   "cell_type": "code",
   "execution_count": 33,
   "metadata": {},
   "outputs": [
    {
     "data": {
      "text/plain": [
       "graph: org.apache.spark.graphx.Graph[String,Int] = org.apache.spark.graphx.impl.GraphImpl@45c84c5d\n"
      ]
     },
     "execution_count": 33,
     "metadata": {},
     "output_type": "execute_result"
    }
   ],
   "source": [
    "val graph = Graph.fromEdgeTuples(edgesRDD, \"nowhere\")"
   ]
  },
  {
   "cell_type": "code",
   "execution_count": 49,
   "metadata": {},
   "outputs": [
    {
     "data": {
      "text/plain": [
       "rankedGraph: org.apache.spark.graphx.Graph[Double,Double] = org.apache.spark.graphx.impl.GraphImpl@1920729e\n"
      ]
     },
     "execution_count": 49,
     "metadata": {},
     "output_type": "execute_result"
    }
   ],
   "source": [
    "val rankedGraph = graph.pageRank(0.00001)"
   ]
  },
  {
   "cell_type": "code",
   "execution_count": 50,
   "metadata": {},
   "outputs": [
    {
     "data": {
      "text/plain": [
       "res21: Array[(org.apache.spark.graphx.VertexId, Double)] = Array((4408653323,0.15000000882333991), (868201562656649216,0.15000000882333991), (4157346022,0.15000000882333991), (1540571352,0.15000000882333991), (2656663204,0.15000000882333991), (281083290,0.15000000882333991), (3131899312,0.15000000882333991), (504698610,0.15000000882333991), (566193264,0.15000000882333991), (469319898,0.15000000882333991))\n"
      ]
     },
     "execution_count": 50,
     "metadata": {},
     "output_type": "execute_result"
    }
   ],
   "source": [
    "rankedGraph.vertices.take(10)"
   ]
  },
  {
   "cell_type": "code",
   "execution_count": 51,
   "metadata": {},
   "outputs": [
    {
     "data": {
      "text/plain": [
       "res22: Array[Double] = Array(702017.2245571568, 133707.6248663512, 95727.6138076457, 76783.66630203578, 54257.39305359204, 48823.447399719495, 39013.99286860527, 33069.33093615038, 31947.6737611705, 30968.093624022877, 29888.157873573542, 29745.33142379452, 28916.121036810015, 27976.251087528835, 27446.72025641996, 26448.98107608865, 26303.800798280925, 24527.157539197175, 23913.75642887295, 23371.4228204437, 23312.164958253034, 23291.97027027809, 22613.64810360956, 22463.18202516953, 19857.95312421276, 18990.284265637285, 17429.008267702928, 16966.443319658312, 16960.121699203934, 16528.407977117895, 15783.931864791752, 15499.18247425687, 15084.756279698351, 14361.204329136059, 14214.257099770111, 14188.528708148246, 13913.452420315616, 13568.620313844825, 12606.5353643361, 12445.84782..."
      ]
     },
     "execution_count": 51,
     "metadata": {},
     "output_type": "execute_result"
    }
   ],
   "source": [
    "rankedGraph.vertices.map{case(_,cc) => cc}.distinct().top(100)"
   ]
  },
  {
   "cell_type": "code",
   "execution_count": 78,
   "metadata": {},
   "outputs": [
    {
     "name": "stdout",
     "output_type": "stream",
     "text": [
      "+------------------+-------------------+\n",
      "|           user_id|           pagerank|\n",
      "+------------------+-------------------+\n",
      "|        4408653323|0.15000000882333991|\n",
      "|868201562656649216|0.15000000882333991|\n",
      "|        4157346022|0.15000000882333991|\n",
      "|        1540571352|0.15000000882333991|\n",
      "|        2656663204|0.15000000882333991|\n",
      "|         281083290|0.15000000882333991|\n",
      "|        3131899312|0.15000000882333991|\n",
      "|         504698610|0.15000000882333991|\n",
      "|         566193264|0.15000000882333991|\n",
      "|         469319898|0.15000000882333991|\n",
      "|705851934595481602|0.15000000882333991|\n",
      "|        2978765698|0.15000000882333991|\n",
      "|        3383700472|0.15000000882333991|\n",
      "|         377871156|0.15000000882333991|\n",
      "|        4049901916|0.15000000882333991|\n",
      "|        1169468502|0.15000000882333991|\n",
      "|         198909744|0.15000000882333991|\n",
      "|        1213108146|0.15000000882333991|\n",
      "|        4854153431|0.15000000882333991|\n",
      "|         115801626|0.15000000882333991|\n",
      "+------------------+-------------------+\n",
      "only showing top 20 rows\n",
      "\n"
     ]
    },
    {
     "data": {
      "text/plain": [
       "rankedGraphDf: org.apache.spark.sql.DataFrame = [user_id: bigint, pagerank: double]\n"
      ]
     },
     "execution_count": 78,
     "metadata": {},
     "output_type": "execute_result"
    }
   ],
   "source": [
    "val rankedGraphDf = rankedGraph.vertices.toDF().withColumnRenamed(\"_1\", \"user_id\").withColumnRenamed(\"_2\", \"pagerank\")\n",
    "rankedGraphDf.show()"
   ]
  },
  {
   "cell_type": "code",
   "execution_count": 104,
   "metadata": {},
   "outputs": [
    {
     "name": "stdout",
     "output_type": "stream",
     "text": [
      "+------------------+---------------+------------------------+--------------+-----------------------+-------------------+\n",
      "|           user_id|    screen_name|are_followers_downloaded|follower_count|follower_appeared_count|           pagerank|\n",
      "+------------------+---------------+------------------------+--------------+-----------------------+-------------------+\n",
      "|         104366327|deepakdeepakdas|                    true|            36|                     36| 1.1352435629744264|\n",
      "|         158935649|        VJanett|                    true|            60|                     60|  7.290613409619615|\n",
      "|         220690950|     DoubleT852|                    true|            24|                     24|  3.108000182819602|\n",
      "|         224126627|      AleksAK16|                    true|             2|                      2| 0.4050000238230178|\n",
      "|         243240673|   LaraBipolara|                    true|            61|                     61|  7.672500451313844|\n",
      "|         259226865|      mbassam76|                   false|          5399|                   5399|  609.2690846285519|\n",
      "|         312180219|      Mahrundel|                    true|             2|                      2|0.17732143900187683|\n",
      "|         348422031|   _Cross_Fire_|                    true|             4|                      4| 0.5643750331978165|\n",
      "|         419119609|trejo_surfhotma|                    true|             9|                      9|  1.074375063197172|\n",
      "|         445619234|    pattonhtrnu|                    true|             4|                      4|0.27750001632317883|\n",
      "|         454446596|     Gjermund78|                    true|             3|                      3|0.30546054428366987|\n",
      "|         468670565|      Paisan132|                    true|             2|                      2|0.27943183461863097|\n",
      "|         550846727|      OpaySelow|                    true|            44|                     44| 5.7600003388162575|\n",
      "|        1732140697|Carolinavivald1|                    true|           307|                    307|  491.0797695652498|\n",
      "|        2432124493|nikhils20039200|                    true|            38|                     38|  3.989094590171273|\n",
      "|        3001918758|        azulaa_|                    true|            40|                     40| 4.2698440011618874|\n",
      "|728147518307991552| shuliang_zhang|                    true|           149|                    149| 18.006072487729334|\n",
      "|733997674966491136|stanisic_zeljka|                    true|             7|                      7| 0.5964124554644957|\n",
      "|759776466632450053|itvMZyAaNKLt5Gv|                    true|             4|                      4| 459.89711962437195|\n",
      "|815895040262336513|     Hamadono19|                    true|             7|                      7| 1.0425000613222124|\n",
      "+------------------+---------------+------------------------+--------------+-----------------------+-------------------+\n",
      "only showing top 20 rows\n",
      "\n"
     ]
    },
    {
     "data": {
      "text/plain": [
       "ranksByUsername: org.apache.spark.sql.DataFrame = [user_id: bigint, screen_name: string ... 4 more fields]\n"
      ]
     },
     "execution_count": 104,
     "metadata": {},
     "output_type": "execute_result"
    }
   ],
   "source": [
    "val ranksByUsername = userDataActual.join(rankedGraphDf, \"user_id\")\n",
    "ranksByUsername.show()"
   ]
  },
  {
   "cell_type": "code",
   "execution_count": 105,
   "metadata": {},
   "outputs": [
    {
     "name": "stdout",
     "output_type": "stream",
     "text": [
      "+---------------+--------------+-----------------------+------------------+\n",
      "|    screen_name|follower_count|follower_appeared_count|          pagerank|\n",
      "+---------------+--------------+-----------------------+------------------+\n",
      "| ARTEM_KLYUSHIN|        813889|                 813889| 702017.2245571568|\n",
      "|      suuna2010|          8677|                  78093| 76783.66630203578|\n",
      "|      geomisati|         14404|                  57616| 54257.39305359204|\n",
      "|     _dearslim_|          6995|                  62955|48823.447399719495|\n",
      "|   MutheeDuncan|         10590|                  63540|30968.093624022877|\n",
      "|prettyravejonas|         16709|                 100254|28916.121036810015|\n",
      "|    njhtuesdays|          6932|                  48524|27976.251087528835|\n",
      "|         i4e___|           518|                   1554| 27446.72025641996|\n",
      "| MusicIndustryU|        104814|                 104814| 26448.98107608865|\n",
      "|        cassmlk|          5685|                   5685|24527.157539197175|\n",
      "|       ATHer323|         15461|                  30922|23312.164958253034|\n",
      "|   ShasiaDeonna|         12654|                  12654| 23291.97027027809|\n",
      "|  LelisSilveira|         28494|                  56988| 22463.18202516953|\n",
      "|       loveitte|         22435|                  67305| 19857.95312421276|\n",
      "|     rembonmike|          2523|                  15138|17429.008267702928|\n",
      "|  cagethecornos|         15288|                  30576|16960.121699203934|\n",
      "|     JBVoteArmy|         15619|                  15619|16528.407977117895|\n",
      "|        bkbells|          2258|                   2258|15783.931864791752|\n",
      "|_0_1_1_1_1_1_0_|          8724|                  43620| 15499.18247425687|\n",
      "|        mdobkin|         95053|                  95053|15084.756279698351|\n",
      "|    _abeatrizzz|          1612|                  17732|14361.204329136059|\n",
      "|Kessesconstitu2|          3846|                  19230|14214.257099770111|\n",
      "|        pmwesha|         12018|                  48072|13913.452420315616|\n",
      "|   abdullah996_|         10796|                  32388|13568.620313844825|\n",
      "|  directionadzz|          7765|                  23295|  12606.5353643361|\n",
      "|  joanne_hickey|         11982|                  23964|12408.813054347183|\n",
      "|emmanuel_ngathu|          4158|                  20790|12396.430951440958|\n",
      "|       jjzlh123|          5314|                  15942|12346.956746326467|\n",
      "|    _LoneSoulja|         26500|                  53000|12301.244417537604|\n",
      "|    Rainqueense|           915|                   5490|11783.944826778792|\n",
      "|     254_curtis|         13471|                  40413|11148.302481348286|\n",
      "| TheRealKiidKay|          3265|                  13060|11013.250811875896|\n",
      "|   fiona_maluka|          1024|                   3072|10100.165810228667|\n",
      "|       awello_k|          4265|                   8530| 9979.083888103236|\n",
      "|      MikeTsire|          6064|                  24256| 9486.361983219285|\n",
      "|         kzeeSA|          3594|                  14376|  9389.84981572014|\n",
      "|willahmcdonough|          5008|                  10016| 9354.635104660974|\n",
      "|     mstr_slfer|         13189|                  26378| 9291.140665588262|\n",
      "|        anazxzz|          3238|                  29142| 9157.970432593393|\n",
      "|   Odhis_Wright|          2592|                  18144| 8987.291456656425|\n",
      "|      Umlungu24|          2108|                  10540| 8822.110555452107|\n",
      "|        itsbani|          4636|                  18544|  8819.63814463168|\n",
      "|        weenick|         20987|                  41974| 8684.517129187127|\n",
      "|        frobiri|          3839|                   7678| 8347.265486527143|\n",
      "|    2015ArthurM|         26108|                  52216| 8122.983233766614|\n",
      "|       tareq_98|         40489|                  40489| 7934.671366402464|\n",
      "| fasttracknews_|         18153|                  36306|   7931.1683677331|\n",
      "|TheRealDSummers|         25478|                  25478| 7743.651558153794|\n",
      "|   Sparckman254|          2388|                   7164| 7631.291113903709|\n",
      "|     uisapatao_|         13674|                  13674| 7489.734796211743|\n",
      "|  singer_JASMIN|          5245|                   5245|7478.6618094010555|\n",
      "|    Ursinha1413|           149|                    149|  7334.16375363112|\n",
      "|       jac_mark|          5347|                  16041| 7320.357421009549|\n",
      "|      LawiOscar|          1245|                   3735| 7288.271562619977|\n",
      "|     Kar1neMelo|         13010|                  13010| 7150.114372075841|\n",
      "|     LuzuVlogs_|         56134|                  56134| 7072.699737370126|\n",
      "|        crfricd|         25486|                  25486| 7029.063948604132|\n",
      "|andysilversnake|         21923|                  21923| 7018.237390941025|\n",
      "|     Sivadblack|          2304|                   6912|  6915.16587998714|\n",
      "|  _LilShawtyyyy|         33821|                  33821| 6909.016916074785|\n",
      "|      lapanaweb|         50787|                  50787| 6903.534398101164|\n",
      "|       Funyunzz|          4815|                   4815| 6779.745668247848|\n",
      "|     realRotich|          2840|                  14200|  6625.10106616938|\n",
      "|      PhredGot1|         22993|                  22993| 6600.370854504536|\n",
      "|MariaMichelle53|          1835|                   3670| 6593.244391568485|\n",
      "|   Equinox_11th|         20788|                  41576|6571.6301994657115|\n",
      "| yash_boylieber|         21825|                  21825| 6560.840247842333|\n",
      "|       ztn_gold|         27699|                  27699| 6397.345358180504|\n",
      "|       Miih_gmf|           312|                    624| 6352.325555531123|\n",
      "|     Ketrin0315|          7711|                  15422| 6192.527614489289|\n",
      "|    Machakabut1|           904|                   3616| 6109.831758335852|\n",
      "|   KumarAnshu04|         10443|                  31329| 6060.399537311042|\n",
      "|     baekhyuwnz|         13515|                  13515| 6030.176393910748|\n",
      "|       1414141s|         10782|                  21564| 6016.529796225365|\n",
      "|        1410_17|         33138|                  33138| 6011.736910558702|\n",
      "|       Dan_Sudi|         17113|                  34226| 5991.886172277429|\n",
      "| CollinsMusalia|          1140|                   3420| 5962.416016591885|\n",
      "|    trey_scotty|           710|                   2840| 5942.997339727419|\n",
      "|elainerafaela15|           749|                    749| 5939.697959986579|\n",
      "|  Lilly56429767|          2504|                   7512| 5919.608675578736|\n",
      "|     E_ALolaiwi|         15717|                  15717| 5913.665319959783|\n",
      "|    Albgomi2030|         22301|                  22301|5832.3500691561185|\n",
      "| real_CastroBMJ|          3640|                  14560|5679.7808577388905|\n",
      "|IngeLiseVejlgaa|         17398|                  17398|5658.9052061030525|\n",
      "|   outersxpacee|         11695|                  11695| 5613.354877563837|\n",
      "|         m_775_|          2093|                   2093| 5565.834708320768|\n",
      "|         j_ooor|          3135|                   3135| 5541.443349754043|\n",
      "|   emmaximus_95|          3951|                   7902| 5531.755629755292|\n",
      "|   tallblackwya|          2084|                   2084| 5518.910742546529|\n",
      "|          iR52l|         29578|                  29578| 5441.814437157258|\n",
      "|        5a88a88|          6810|                   6810| 5401.387727768593|\n",
      "| itstrinityanne|           493|                   1479| 5388.339492796529|\n",
      "|JohnVanderbilt2|         21356|                  21356| 5379.345711963944|\n",
      "|     SrTonAlves|          9951|                   9951| 5362.662677445999|\n",
      "|    shawnsmocha|         36668|                  36668|5355.4842751612205|\n",
      "|     Cu_de_sapo|          2346|                   2346| 5345.361980885775|\n",
      "|   ZERO_FIGURES|          3360|                  10080| 5306.513729503595|\n",
      "|   ZeniferHenry|          3172|                   6344|  5266.43996112088|\n",
      "| HikariHasimoto|         15173|                  30346| 5146.751419903883|\n",
      "|    sdelanounih|          6267|                   6267| 5134.288269115135|\n",
      "+---------------+--------------+-----------------------+------------------+\n",
      "only showing top 100 rows\n",
      "\n"
     ]
    }
   ],
   "source": [
    "ranksByUsername.sort(desc(\"pagerank\")).where(col(\"are_followers_downloaded\") === true)\n",
    ".select(\"screen_name\", \"follower_count\", \"follower_appeared_count\", \"pagerank\").show(100)"
   ]
  },
  {
   "cell_type": "code",
   "execution_count": null,
   "metadata": {},
   "outputs": [],
   "source": [
    "ranksByUsername.sort(desc(\"pagerank\")).show()"
   ]
  },
  {
   "cell_type": "code",
   "execution_count": 37,
   "metadata": {},
   "outputs": [
    {
     "data": {
      "text/plain": [
       "components: org.apache.spark.graphx.Graph[org.apache.spark.graphx.VertexId,Int] = org.apache.spark.graphx.impl.GraphImpl@49b04576\n"
      ]
     },
     "execution_count": 37,
     "metadata": {},
     "output_type": "execute_result"
    }
   ],
   "source": [
    "val components = graph.connectedComponents()"
   ]
  },
  {
   "cell_type": "code",
   "execution_count": 38,
   "metadata": {},
   "outputs": [
    {
     "data": {
      "text/plain": [
       "res11: Array[(org.apache.spark.graphx.VertexId, String)] = Array((4408653323,4408653323 is in component 13), (868201562656649216,868201562656649216 is in component 13), (4157346022,4157346022 is in component 13), (1540571352,1540571352 is in component 13), (2656663204,2656663204 is in component 13))\n"
      ]
     },
     "execution_count": 38,
     "metadata": {},
     "output_type": "execute_result"
    }
   ],
   "source": [
    "graph.vertices.leftJoin(components.vertices) {\n",
    "    case (id, data, comp) => s\"${id} is in component ${comp.get}\"\n",
    "}.take(5)"
   ]
  },
  {
   "cell_type": "code",
   "execution_count": 39,
   "metadata": {},
   "outputs": [
    {
     "data": {
      "text/plain": [
       "res12: Long = 1\n"
      ]
     },
     "execution_count": 39,
     "metadata": {},
     "output_type": "execute_result"
    }
   ],
   "source": [
    "components.vertices.map{case(_,cc) => cc}.distinct().count()"
   ]
  },
  {
   "cell_type": "code",
   "execution_count": 106,
   "metadata": {},
   "outputs": [
    {
     "data": {
      "text/plain": [
       "res61: Long = 10039644\n"
      ]
     },
     "execution_count": 106,
     "metadata": {},
     "output_type": "execute_result"
    }
   ],
   "source": [
    "followers.count()"
   ]
  },
  {
   "cell_type": "code",
   "execution_count": 107,
   "metadata": {},
   "outputs": [
    {
     "data": {
      "text/plain": [
       "res62: Long = 7106158\n"
      ]
     },
     "execution_count": 107,
     "metadata": {},
     "output_type": "execute_result"
    }
   ],
   "source": [
    "followers.distinct().count()"
   ]
  },
  {
   "cell_type": "code",
   "execution_count": null,
   "metadata": {},
   "outputs": [],
   "source": []
  }
 ],
 "metadata": {
  "kernelspec": {
   "display_name": "spylon-kernel",
   "language": "scala",
   "name": "spylon-kernel"
  },
  "language_info": {
   "codemirror_mode": "text/x-scala",
   "file_extension": ".scala",
   "help_links": [
    {
     "text": "MetaKernel Magics",
     "url": "https://metakernel.readthedocs.io/en/latest/source/README.html"
    }
   ],
   "mimetype": "text/x-scala",
   "name": "scala",
   "pygments_lexer": "scala",
   "version": "0.4.1"
  }
 },
 "nbformat": 4,
 "nbformat_minor": 4
}
